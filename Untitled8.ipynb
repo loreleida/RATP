{
  "nbformat": 4,
  "nbformat_minor": 0,
  "metadata": {
    "colab": {
      "name": "Untitled8.ipynb",
      "provenance": [],
      "collapsed_sections": []
    },
    "kernelspec": {
      "name": "python3",
      "display_name": "Python 3"
    }
  },
  "cells": [
    {
      "cell_type": "code",
      "metadata": {
        "id": "lrRsgwyqZUL3"
      },
      "source": [
        ""
      ],
      "execution_count": null,
      "outputs": []
    },
    {
      "cell_type": "markdown",
      "metadata": {
        "id": "onNVnzM9cmNM"
      },
      "source": [
        "# **Projet Python : Analyse des sentiments des usagers de la RATP**"
      ]
    },
    {
      "cell_type": "markdown",
      "metadata": {
        "id": "ZXwwjb2_i-AU"
      },
      "source": [
        "**Introduction** : Il s'agit dans ce devoir, de scrapper un certain nombre de tweets concernant la RATP, en les séparant par RER et par heure, puis de s'intéresser à la satisfaction des usagers de ces transports. On se demande s'il y a des RER qui rencontrent une meilleure satisfaction que d'autres, si pour chaque RER il y a des différences selon l'heure, notamment aux heures de pointe."
      ]
    },
    {
      "cell_type": "markdown",
      "metadata": {
        "id": "0S--xbUGsWna"
      },
      "source": [
        "# **Partie 1** : Création de la base de données\n",
        "\n",
        "Pour notre étude nous utilisons une base de données constituée de tweets. Ces tweets sont scrappés directement decpuis twitter à l'aide du package tweepy, mis en place à cet effet. Il s'agit donc d'abord d'installer ce package et de s'identifier auprès de twitter afin qu'il autorise ce package à s'installer. Pour cela, nous avons créé un compte de twitter developer et nous avons utilisé nos clés d'accès. Dans la cellule de code ci-dessous, on importe également tous nos modules."
      ]
    },
    {
      "cell_type": "code",
      "metadata": {
        "id": "sw4mftYgdnhI",
        "colab": {
          "base_uri": "https://localhost:8080/"
        },
        "outputId": "8098ba5c-751a-4462-bb53-fe7a68ba2bf8"
      },
      "source": [
        "import tweepy\n",
        "import pandas as pd\n",
        "import csv\n",
        "import textblob\n",
        "!pip install textblob-fr\n",
        "from textblob_fr import PatternTagger, PatternAnalyzer\n",
        "!pip install preprocessor\n",
        "import preprocessor\n",
        "import re\n",
        "!pip install emoji\n",
        "import emoji\n",
        "import nltk\n",
        "import numpy as np\n",
        "import time\n",
        "import datetime\n",
        "from datetime import datetime\n",
        "from textblob import TextBlob\n",
        "import numpy as np\n",
        "import matplotlib.pyplot as plt\n",
        "import gensim\n",
        "\n",
        "consumer_key = \"9j7ncX7ohvlWjzDwcBW5iGdG8\"\n",
        "consumer_secret = \"ddmGGCzD1gBmJN7w5sVp4dQSzWearFv9jLEYCdxbq4ARdKM9E6\"\n",
        "access_token = \"1323999317204631553-PtK72rXBxm5Q7mccnTZU26pixBCmBP\"\n",
        "access_token_secret = \"zKJRt7sKlwoTDw7dl8S1mzQf6Qv5rGrqVYiWxBortQJJ5\"\n",
        "auth = tweepy.OAuthHandler(consumer_key, consumer_secret)\n",
        "auth.set_access_token(access_token, access_token_secret)\n",
        "api = tweepy.API(auth,wait_on_rate_limit=True)"
      ],
      "execution_count": null,
      "outputs": [
        {
          "output_type": "stream",
          "text": [
            "Requirement already satisfied: textblob-fr in /usr/local/lib/python3.6/dist-packages (0.2.0)\n",
            "Requirement already satisfied: textblob>=0.8.0 in /usr/local/lib/python3.6/dist-packages (from textblob-fr) (0.15.3)\n",
            "Requirement already satisfied: nltk>=3.1 in /usr/local/lib/python3.6/dist-packages (from textblob>=0.8.0->textblob-fr) (3.2.5)\n",
            "Requirement already satisfied: six in /usr/local/lib/python3.6/dist-packages (from nltk>=3.1->textblob>=0.8.0->textblob-fr) (1.15.0)\n",
            "Requirement already satisfied: preprocessor in /usr/local/lib/python3.6/dist-packages (1.1.3)\n",
            "Requirement already satisfied: emoji in /usr/local/lib/python3.6/dist-packages (0.6.0)\n"
          ],
          "name": "stdout"
        }
      ]
    },
    {
      "cell_type": "markdown",
      "metadata": {
        "id": "UfiUAKHLt-ez"
      },
      "source": [
        "Nous décidons de scrapper les tweets à l'aide d'une recherche par mots clés. Cest tweets sont stockés sous forme de liste. La fonction get_tweet se base sur l'outil \"api.search\" qui scrappe tous les tweets contenant un certain mot-clé. Elle prend en argument le nombre de tweets que l'on veut scrapper contenant une certaine liste de mots clés. Cependant, il faut garder en tête que le principal inconvénient du module tweepy est qu'il limite beaucoup le nombre de tweets que l'on peut scrapper, donc on peut se retrouver avec moins de tweets que l'on souhaite. De plus, on choisit de ne prendre que les tweets publiés autour de Paris (dans l'argument geocode) pour éviter d'avoir des tweets créés par des robots à l'autre bout du monde qui viennent interférer, et cela ne nous limite pas aux tweets en français. (On pouvait régler le problème des robots en se limitant au français grâce à textblob mais il y a des gens non français qui peuvent tweeter sur la RATP donc choisir le géocode de Paris est la solution optimale). Il faut cependant prendre en compte que l'on aura sûrement une marge d'erreur pour le RER A. En effet, des usagers peuvent très bien tweeter en parlant d'un RER lambda \"le RER a mal fonctionné ce matin\" et il sera comptabilisé dans la liste des tweets sur le RER A. Nous n'avons pas trouvé comment contourner ce problème."
      ]
    },
    {
      "cell_type": "code",
      "metadata": {
        "id": "LPTalYdgmDq9"
      },
      "source": [
        "def get_tweet(key_words, n) :\n",
        "  alltweets=[]\n",
        "  for k in range(len(key_words)) :\n",
        "    alltweets+=api.search(key_words[k], geocode='48.8534,2.3488,100km', count=n)\n",
        "  return(alltweets)\n",
        "\n",
        "liste_tweets_rer_A=get_tweet([\"rer a\"], 1000)\n",
        "liste_tweets_rer_B=get_tweet([\"rer b\"], 1000)\n",
        "liste_tweets_rer_C=get_tweet([\"rer c\"], 1000)\n",
        "liste_tweets_rer_D=get_tweet([\"rer D\"], 1000)\n",
        "liste_tweets_rer_E=get_tweet([\"rer E\"], 1000)"
      ],
      "execution_count": null,
      "outputs": []
    },
    {
      "cell_type": "markdown",
      "metadata": {
        "id": "SckU6fUcV37M"
      },
      "source": [
        "# **Partie 2** : Nettoyage des tweets\n",
        "\n",
        "\n",
        "On nettoie ensuite les tweets. En effet, lorsque l'on scrappe Twitter, on a beaucoup d'informations qui ne nous intéressent pas. On veut juste le tweet et son heure. La fonction \"extract_tweet\" ci-dessous va nous retourner l'ensemble des tweets seuls, en enlevant toutes les informations dont nous ne voulons pas. De plus, on nettoie les tweets au passage. Cela signifie que l'on enlève les @, les emojis (en ayant installé au préalable le module emoji), les liens http. De plus, il faut enlever les RT de nos tweets car sinon on aurait le même tweet le nombre de fois qu'il aurait été retweeté, ce qui peut être beaucoup. La fonction removeduplicate est une verification finale pour supprimer les doublons.\n",
        "Ensuite, on crée une fonction simple \"heure_tweet\" qui crée une liste remplie des heures des tweets que l'on vient de scrapper. Cela nous servira plus tard à tracer la satisfaction en fonction de l'heure."
      ]
    },
    {
      "cell_type": "code",
      "metadata": {
        "id": "Wfd338bnV4p4"
      },
      "source": [
        "def removeduplicate(liste):\n",
        "  unique=[]\n",
        "  for tweet in liste: \n",
        "    if tweet not in unique:\n",
        "      unique.append(tweet)\n",
        "  return unique\n",
        "\n",
        "def extract_tweet(liste):\n",
        "  tweets=[]\n",
        "  twit='jeanne'\n",
        "  for k in range(len(liste)) :\n",
        "     twit=liste[k].text\n",
        "     if twit[0]!='R' and twit[1]!='T' : #enlever les RT\n",
        "       twit = re.sub(\"@[A-Za-z0-9]+\",\"\",twit) #enlever les @\n",
        "       twit = re.sub(r\"(?:\\@|http?\\://|https?\\://|www)\\S+\", \"\", twit) #enlever les http links\n",
        "       twit = \" \".join(twit.split())\n",
        "       twit = ''.join(c for c in twit if c not in emoji.UNICODE_EMOJI) #enlever les emojis\n",
        "       twit = twit.replace(\"#\", \"\").replace(\"_\", \" \") #enlever les #\n",
        "       twit = \" \".join(w for w in nltk.wordpunct_tokenize(twit))\n",
        "       twit=twit.lower() #mettre en minuscules\n",
        "       tweets+=[twit]\n",
        "       removeduplicate(tweets)\n",
        "  return(tweets)\n",
        "\n",
        "def heure_tweet(liste) :\n",
        "  heures=[]\n",
        "  liste2=removeduplicate(liste)\n",
        "  for k in range(len(liste2)) :\n",
        "    tweet=liste2[k].text\n",
        "    if tweet[0]!='R' and tweet[1]!='T' :\n",
        "      heures.append(liste2[k].created_at)\n",
        "  return(heures)\n",
        "\n",
        "liste_tweets_rer_A_propre=extract_tweet(liste_tweets_rer_A)\n",
        "liste_tweets_rer_B_propre=extract_tweet(liste_tweets_rer_B)\n",
        "liste_tweets_rer_C_propre=extract_tweet(liste_tweets_rer_C)\n",
        "liste_tweets_rer_D_propre=extract_tweet(liste_tweets_rer_D)\n",
        "liste_tweets_rer_E_propre=extract_tweet(liste_tweets_rer_E)\n",
        "\n",
        "time_tweets_rer_A=heure_tweet(liste_tweets_rer_A)\n",
        "time_tweets_rer_B=heure_tweet(liste_tweets_rer_B)\n",
        "time_tweets_rer_C=heure_tweet(liste_tweets_rer_C)\n",
        "time_tweets_rer_D=heure_tweet(liste_tweets_rer_D)\n",
        "time_tweets_rer_E=heure_tweet(liste_tweets_rer_E)\n",
        "\n",
        "#penser à enlever la ponctuation"
      ],
      "execution_count": null,
      "outputs": []
    },
    {
      "cell_type": "markdown",
      "metadata": {
        "id": "EP0co51dp7SA"
      },
      "source": [
        "Dans la section ci-dessous, nous présentons le code qui nous a permis d'établir notre base de donnée. Ce code a tourné dans un autre notebook, on le présente ici, mais utilisons la base produite par l'autre notebook. En effet, tweepy possède un inconvénient majeur, qui est qu'il limite le nombre de tweets qu'on peut scrapper. La limite est établie à 100. Nous avons donc scrappé 100 tweets plusieurs fois, et avons mis le tout sous forme de DataFrame puis de fichier CSV."
      ]
    },
    {
      "cell_type": "code",
      "metadata": {
        "id": "NyPzx_eM2Gwo",
        "colab": {
          "base_uri": "https://localhost:8080/"
        },
        "outputId": "dfab73d2-c760-49db-d762-7bdbaebe357f"
      },
      "source": [
        "from google.colab import drive #module qui permet d'enregistrer sur le drive\n",
        "drive.mount(\"drive\", force_remount=True)\n",
        "\n",
        "df_rerApropre=pd.DataFrame(liste_tweets_rer_A_propre) #transformation en dataframe\n",
        "df_heureA=pd.DataFrame(time_tweets_rer_A)\n",
        "df_rerA=pd.concat([df_rerApropre, df_heureA], axis=1)#concaténation des dataframe\n",
        "df_rerA.columns=('tweet_RER_A','heure_du_tweet') \n",
        "df_rerA.to_csv('rerA0.csv')\n",
        "!cp rerA0.csv \"drive/My Drive/RER/\"\n",
        "\n",
        "df_rerBpropre=pd.DataFrame(liste_tweets_rer_B_propre) #transformation en dataframe\n",
        "df_heureB=pd.DataFrame(time_tweets_rer_B)\n",
        "df_rerB=pd.concat([df_rerBpropre, df_heureB], axis=1)#concaténation des dataframe \n",
        "df_rerB.columns=('tweet_RER_B','heure_du_tweet') \n",
        "df_rerB.to_csv('rerB0.csv')\n",
        "!cp rerB0.csv \"drive/My Drive/RER/\"\n",
        "\n",
        "df_rerCpropre=pd.DataFrame(liste_tweets_rer_C_propre) #transformation en dataframe\n",
        "df_heureC=pd.DataFrame(time_tweets_rer_C)\n",
        "df_rerC=pd.concat([df_rerCpropre, df_heureC], axis=1)#concaténation des dataframe \n",
        "df_rerC.columns=('tweet_RER_C','heure_du_tweet') \n",
        "df_rerC.to_csv('rerC0.csv')\n",
        "!cp rerC0.csv \"drive/My Drive/RER/\"\n",
        "\n",
        "df_rerDpropre=pd.DataFrame(liste_tweets_rer_D_propre) #transformation en dataframe\n",
        "df_heureD=pd.DataFrame(time_tweets_rer_D)\n",
        "df_rerD=pd.concat([df_rerDpropre, df_heureD], axis=1)#concaténation des dataframe \n",
        "df_rerD.columns=('tweet_RER_D','heure_du_tweet') \n",
        "df_rerD.to_csv('rerD0.csv')\n",
        "!cp rerD0.csv \"drive/My Drive/RER/\"\n",
        "\n",
        "df_rerEpropre=pd.DataFrame(liste_tweets_rer_E_propre) #transformation en dataframe\n",
        "df_heureE=pd.DataFrame(time_tweets_rer_E)\n",
        "df_rerE=pd.concat([df_rerEpropre, df_heureE], axis=1)#concaténation des dataframe \n",
        "df_rerE.columns=('tweet_RER_E','heure_du_tweet') \n",
        "df_rerE.to_csv('rerE0.csv')\n",
        "!cp rerE0.csv \"drive/My Drive/RER/\""
      ],
      "execution_count": null,
      "outputs": [
        {
          "output_type": "stream",
          "text": [
            "Mounted at drive\n",
            "cp: cannot create regular file 'drive/My Drive/RER/': Not a directory\n",
            "cp: cannot create regular file 'drive/My Drive/RER/': Not a directory\n",
            "cp: cannot create regular file 'drive/My Drive/RER/': Not a directory\n",
            "cp: cannot create regular file 'drive/My Drive/RER/': Not a directory\n",
            "cp: cannot create regular file 'drive/My Drive/RER/': Not a directory\n"
          ],
          "name": "stdout"
        }
      ]
    },
    {
      "cell_type": "code",
      "metadata": {
        "colab": {
          "base_uri": "https://localhost:8080/"
        },
        "id": "ccPvy2jtaLzt",
        "outputId": "0212fad7-218a-482e-82b6-aa9ec2e5a7db"
      },
      "source": [
        "!ls \"drive/My Drive/RER/\""
      ],
      "execution_count": null,
      "outputs": [
        {
          "output_type": "stream",
          "text": [
            "ls: cannot access 'drive/My Drive/RER/': No such file or directory\n"
          ],
          "name": "stdout"
        }
      ]
    },
    {
      "cell_type": "code",
      "metadata": {
        "id": "J_6zKaUgdPrk",
        "colab": {
          "base_uri": "https://localhost:8080/",
          "height": 442
        },
        "outputId": "8e5e8433-9b79-4cb5-80a9-67dc2d518650"
      },
      "source": [
        "dataA=[]\r\n",
        "for k in range(8):\r\n",
        "  dataA.append(pd.read_csv(\"drive/My Drive/RER/rerA\"+str(k)+\".csv\"))\r\n",
        "\r\n",
        "dataB=[]\r\n",
        "for k in range(8):\r\n",
        "  dataB.append(pd.read_csv(\"drive/My Drive/RER/rerB\"+str(k)+\".csv\"))\r\n",
        "\r\n",
        "dataC=[]\r\n",
        "for k in range(8):\r\n",
        "  dataC.append(pd.read_csv(\"drive/My Drive/RER/rerC\"+str(k)+\".csv\"))\r\n",
        "\r\n",
        "dataD=[]\r\n",
        "for k in range(8):\r\n",
        "  dataD.append(pd.read_csv(\"drive/My Drive/RER/rerD\"+str(k)+\".csv\"))\r\n",
        "\r\n",
        "dataE=[]\r\n",
        "for k in range(8):\r\n",
        "  dataE.append(pd.read_csv(\"drive/My Drive/RER/rerE\"+str(k)+\".csv\"))"
      ],
      "execution_count": null,
      "outputs": [
        {
          "output_type": "error",
          "ename": "FileNotFoundError",
          "evalue": "ignored",
          "traceback": [
            "\u001b[0;31m---------------------------------------------------------------------------\u001b[0m",
            "\u001b[0;31mFileNotFoundError\u001b[0m                         Traceback (most recent call last)",
            "\u001b[0;32m<ipython-input-25-a634c4b0abf7>\u001b[0m in \u001b[0;36m<module>\u001b[0;34m()\u001b[0m\n\u001b[1;32m      1\u001b[0m \u001b[0mdataA\u001b[0m\u001b[0;34m=\u001b[0m\u001b[0;34m[\u001b[0m\u001b[0;34m]\u001b[0m\u001b[0;34m\u001b[0m\u001b[0;34m\u001b[0m\u001b[0m\n\u001b[1;32m      2\u001b[0m \u001b[0;32mfor\u001b[0m \u001b[0mk\u001b[0m \u001b[0;32min\u001b[0m \u001b[0mrange\u001b[0m\u001b[0;34m(\u001b[0m\u001b[0;36m8\u001b[0m\u001b[0;34m)\u001b[0m\u001b[0;34m:\u001b[0m\u001b[0;34m\u001b[0m\u001b[0;34m\u001b[0m\u001b[0m\n\u001b[0;32m----> 3\u001b[0;31m   \u001b[0mdataA\u001b[0m\u001b[0;34m.\u001b[0m\u001b[0mappend\u001b[0m\u001b[0;34m(\u001b[0m\u001b[0mpd\u001b[0m\u001b[0;34m.\u001b[0m\u001b[0mread_csv\u001b[0m\u001b[0;34m(\u001b[0m\u001b[0;34m\"drive/My Drive/RER/rerA\"\u001b[0m\u001b[0;34m+\u001b[0m\u001b[0mstr\u001b[0m\u001b[0;34m(\u001b[0m\u001b[0mk\u001b[0m\u001b[0;34m)\u001b[0m\u001b[0;34m+\u001b[0m\u001b[0;34m\".csv\"\u001b[0m\u001b[0;34m)\u001b[0m\u001b[0;34m)\u001b[0m\u001b[0;34m\u001b[0m\u001b[0;34m\u001b[0m\u001b[0m\n\u001b[0m\u001b[1;32m      4\u001b[0m \u001b[0;34m\u001b[0m\u001b[0m\n\u001b[1;32m      5\u001b[0m \u001b[0mdataB\u001b[0m\u001b[0;34m=\u001b[0m\u001b[0;34m[\u001b[0m\u001b[0;34m]\u001b[0m\u001b[0;34m\u001b[0m\u001b[0;34m\u001b[0m\u001b[0m\n",
            "\u001b[0;32m/usr/local/lib/python3.6/dist-packages/pandas/io/parsers.py\u001b[0m in \u001b[0;36mread_csv\u001b[0;34m(filepath_or_buffer, sep, delimiter, header, names, index_col, usecols, squeeze, prefix, mangle_dupe_cols, dtype, engine, converters, true_values, false_values, skipinitialspace, skiprows, skipfooter, nrows, na_values, keep_default_na, na_filter, verbose, skip_blank_lines, parse_dates, infer_datetime_format, keep_date_col, date_parser, dayfirst, cache_dates, iterator, chunksize, compression, thousands, decimal, lineterminator, quotechar, quoting, doublequote, escapechar, comment, encoding, dialect, error_bad_lines, warn_bad_lines, delim_whitespace, low_memory, memory_map, float_precision)\u001b[0m\n\u001b[1;32m    686\u001b[0m     )\n\u001b[1;32m    687\u001b[0m \u001b[0;34m\u001b[0m\u001b[0m\n\u001b[0;32m--> 688\u001b[0;31m     \u001b[0;32mreturn\u001b[0m \u001b[0m_read\u001b[0m\u001b[0;34m(\u001b[0m\u001b[0mfilepath_or_buffer\u001b[0m\u001b[0;34m,\u001b[0m \u001b[0mkwds\u001b[0m\u001b[0;34m)\u001b[0m\u001b[0;34m\u001b[0m\u001b[0;34m\u001b[0m\u001b[0m\n\u001b[0m\u001b[1;32m    689\u001b[0m \u001b[0;34m\u001b[0m\u001b[0m\n\u001b[1;32m    690\u001b[0m \u001b[0;34m\u001b[0m\u001b[0m\n",
            "\u001b[0;32m/usr/local/lib/python3.6/dist-packages/pandas/io/parsers.py\u001b[0m in \u001b[0;36m_read\u001b[0;34m(filepath_or_buffer, kwds)\u001b[0m\n\u001b[1;32m    452\u001b[0m \u001b[0;34m\u001b[0m\u001b[0m\n\u001b[1;32m    453\u001b[0m     \u001b[0;31m# Create the parser.\u001b[0m\u001b[0;34m\u001b[0m\u001b[0;34m\u001b[0m\u001b[0;34m\u001b[0m\u001b[0m\n\u001b[0;32m--> 454\u001b[0;31m     \u001b[0mparser\u001b[0m \u001b[0;34m=\u001b[0m \u001b[0mTextFileReader\u001b[0m\u001b[0;34m(\u001b[0m\u001b[0mfp_or_buf\u001b[0m\u001b[0;34m,\u001b[0m \u001b[0;34m**\u001b[0m\u001b[0mkwds\u001b[0m\u001b[0;34m)\u001b[0m\u001b[0;34m\u001b[0m\u001b[0;34m\u001b[0m\u001b[0m\n\u001b[0m\u001b[1;32m    455\u001b[0m \u001b[0;34m\u001b[0m\u001b[0m\n\u001b[1;32m    456\u001b[0m     \u001b[0;32mif\u001b[0m \u001b[0mchunksize\u001b[0m \u001b[0;32mor\u001b[0m \u001b[0miterator\u001b[0m\u001b[0;34m:\u001b[0m\u001b[0;34m\u001b[0m\u001b[0;34m\u001b[0m\u001b[0m\n",
            "\u001b[0;32m/usr/local/lib/python3.6/dist-packages/pandas/io/parsers.py\u001b[0m in \u001b[0;36m__init__\u001b[0;34m(self, f, engine, **kwds)\u001b[0m\n\u001b[1;32m    946\u001b[0m             \u001b[0mself\u001b[0m\u001b[0;34m.\u001b[0m\u001b[0moptions\u001b[0m\u001b[0;34m[\u001b[0m\u001b[0;34m\"has_index_names\"\u001b[0m\u001b[0;34m]\u001b[0m \u001b[0;34m=\u001b[0m \u001b[0mkwds\u001b[0m\u001b[0;34m[\u001b[0m\u001b[0;34m\"has_index_names\"\u001b[0m\u001b[0;34m]\u001b[0m\u001b[0;34m\u001b[0m\u001b[0;34m\u001b[0m\u001b[0m\n\u001b[1;32m    947\u001b[0m \u001b[0;34m\u001b[0m\u001b[0m\n\u001b[0;32m--> 948\u001b[0;31m         \u001b[0mself\u001b[0m\u001b[0;34m.\u001b[0m\u001b[0m_make_engine\u001b[0m\u001b[0;34m(\u001b[0m\u001b[0mself\u001b[0m\u001b[0;34m.\u001b[0m\u001b[0mengine\u001b[0m\u001b[0;34m)\u001b[0m\u001b[0;34m\u001b[0m\u001b[0;34m\u001b[0m\u001b[0m\n\u001b[0m\u001b[1;32m    949\u001b[0m \u001b[0;34m\u001b[0m\u001b[0m\n\u001b[1;32m    950\u001b[0m     \u001b[0;32mdef\u001b[0m \u001b[0mclose\u001b[0m\u001b[0;34m(\u001b[0m\u001b[0mself\u001b[0m\u001b[0;34m)\u001b[0m\u001b[0;34m:\u001b[0m\u001b[0;34m\u001b[0m\u001b[0;34m\u001b[0m\u001b[0m\n",
            "\u001b[0;32m/usr/local/lib/python3.6/dist-packages/pandas/io/parsers.py\u001b[0m in \u001b[0;36m_make_engine\u001b[0;34m(self, engine)\u001b[0m\n\u001b[1;32m   1178\u001b[0m     \u001b[0;32mdef\u001b[0m \u001b[0m_make_engine\u001b[0m\u001b[0;34m(\u001b[0m\u001b[0mself\u001b[0m\u001b[0;34m,\u001b[0m \u001b[0mengine\u001b[0m\u001b[0;34m=\u001b[0m\u001b[0;34m\"c\"\u001b[0m\u001b[0;34m)\u001b[0m\u001b[0;34m:\u001b[0m\u001b[0;34m\u001b[0m\u001b[0;34m\u001b[0m\u001b[0m\n\u001b[1;32m   1179\u001b[0m         \u001b[0;32mif\u001b[0m \u001b[0mengine\u001b[0m \u001b[0;34m==\u001b[0m \u001b[0;34m\"c\"\u001b[0m\u001b[0;34m:\u001b[0m\u001b[0;34m\u001b[0m\u001b[0;34m\u001b[0m\u001b[0m\n\u001b[0;32m-> 1180\u001b[0;31m             \u001b[0mself\u001b[0m\u001b[0;34m.\u001b[0m\u001b[0m_engine\u001b[0m \u001b[0;34m=\u001b[0m \u001b[0mCParserWrapper\u001b[0m\u001b[0;34m(\u001b[0m\u001b[0mself\u001b[0m\u001b[0;34m.\u001b[0m\u001b[0mf\u001b[0m\u001b[0;34m,\u001b[0m \u001b[0;34m**\u001b[0m\u001b[0mself\u001b[0m\u001b[0;34m.\u001b[0m\u001b[0moptions\u001b[0m\u001b[0;34m)\u001b[0m\u001b[0;34m\u001b[0m\u001b[0;34m\u001b[0m\u001b[0m\n\u001b[0m\u001b[1;32m   1181\u001b[0m         \u001b[0;32melse\u001b[0m\u001b[0;34m:\u001b[0m\u001b[0;34m\u001b[0m\u001b[0;34m\u001b[0m\u001b[0m\n\u001b[1;32m   1182\u001b[0m             \u001b[0;32mif\u001b[0m \u001b[0mengine\u001b[0m \u001b[0;34m==\u001b[0m \u001b[0;34m\"python\"\u001b[0m\u001b[0;34m:\u001b[0m\u001b[0;34m\u001b[0m\u001b[0;34m\u001b[0m\u001b[0m\n",
            "\u001b[0;32m/usr/local/lib/python3.6/dist-packages/pandas/io/parsers.py\u001b[0m in \u001b[0;36m__init__\u001b[0;34m(self, src, **kwds)\u001b[0m\n\u001b[1;32m   2008\u001b[0m         \u001b[0mkwds\u001b[0m\u001b[0;34m[\u001b[0m\u001b[0;34m\"usecols\"\u001b[0m\u001b[0;34m]\u001b[0m \u001b[0;34m=\u001b[0m \u001b[0mself\u001b[0m\u001b[0;34m.\u001b[0m\u001b[0musecols\u001b[0m\u001b[0;34m\u001b[0m\u001b[0;34m\u001b[0m\u001b[0m\n\u001b[1;32m   2009\u001b[0m \u001b[0;34m\u001b[0m\u001b[0m\n\u001b[0;32m-> 2010\u001b[0;31m         \u001b[0mself\u001b[0m\u001b[0;34m.\u001b[0m\u001b[0m_reader\u001b[0m \u001b[0;34m=\u001b[0m \u001b[0mparsers\u001b[0m\u001b[0;34m.\u001b[0m\u001b[0mTextReader\u001b[0m\u001b[0;34m(\u001b[0m\u001b[0msrc\u001b[0m\u001b[0;34m,\u001b[0m \u001b[0;34m**\u001b[0m\u001b[0mkwds\u001b[0m\u001b[0;34m)\u001b[0m\u001b[0;34m\u001b[0m\u001b[0;34m\u001b[0m\u001b[0m\n\u001b[0m\u001b[1;32m   2011\u001b[0m         \u001b[0mself\u001b[0m\u001b[0;34m.\u001b[0m\u001b[0munnamed_cols\u001b[0m \u001b[0;34m=\u001b[0m \u001b[0mself\u001b[0m\u001b[0;34m.\u001b[0m\u001b[0m_reader\u001b[0m\u001b[0;34m.\u001b[0m\u001b[0munnamed_cols\u001b[0m\u001b[0;34m\u001b[0m\u001b[0;34m\u001b[0m\u001b[0m\n\u001b[1;32m   2012\u001b[0m \u001b[0;34m\u001b[0m\u001b[0m\n",
            "\u001b[0;32mpandas/_libs/parsers.pyx\u001b[0m in \u001b[0;36mpandas._libs.parsers.TextReader.__cinit__\u001b[0;34m()\u001b[0m\n",
            "\u001b[0;32mpandas/_libs/parsers.pyx\u001b[0m in \u001b[0;36mpandas._libs.parsers.TextReader._setup_parser_source\u001b[0;34m()\u001b[0m\n",
            "\u001b[0;31mFileNotFoundError\u001b[0m: [Errno 2] No such file or directory: 'drive/My Drive/RER/rerA0.csv'"
          ]
        }
      ]
    },
    {
      "cell_type": "code",
      "metadata": {
        "colab": {
          "base_uri": "https://localhost:8080/",
          "height": 391
        },
        "id": "vk-N5-Jgg1wi",
        "outputId": "0d7fc170-e057-49af-a2bf-d2b89d4624cb"
      },
      "source": [
        "frameA = pd.concat(dataA, axis=0, ignore_index=True)\r\n",
        "frameA=frameA.drop(frameA.columns[0], axis='columns')\r\n",
        "\r\n",
        "frameB = pd.concat(dataB, axis=0, ignore_index=True)\r\n",
        "frameB=frameB.drop(frameB.columns[0], axis='columns')\r\n",
        "\r\n",
        "frameC = pd.concat(dataC, axis=0, ignore_index=True)\r\n",
        "frameC=frameC.drop(frameC.columns[0], axis='columns')\r\n",
        "\r\n",
        "frameD = pd.concat(dataD, axis=0, ignore_index=True)\r\n",
        "frameD=frameD.drop(frameD.columns[0], axis='columns')\r\n",
        "\r\n",
        "frameE = pd.concat(dataE, axis=0, ignore_index=True)\r\n",
        "frameE=frameE.drop(frameE.columns[[0,3]], axis='columns')\r\n",
        "\r\n"
      ],
      "execution_count": null,
      "outputs": [
        {
          "output_type": "error",
          "ename": "ValueError",
          "evalue": "ignored",
          "traceback": [
            "\u001b[0;31m---------------------------------------------------------------------------\u001b[0m",
            "\u001b[0;31mValueError\u001b[0m                                Traceback (most recent call last)",
            "\u001b[0;32m<ipython-input-9-6de21c4be2e9>\u001b[0m in \u001b[0;36m<module>\u001b[0;34m()\u001b[0m\n\u001b[0;32m----> 1\u001b[0;31m \u001b[0mframeA\u001b[0m \u001b[0;34m=\u001b[0m \u001b[0mpd\u001b[0m\u001b[0;34m.\u001b[0m\u001b[0mconcat\u001b[0m\u001b[0;34m(\u001b[0m\u001b[0mdataA\u001b[0m\u001b[0;34m,\u001b[0m \u001b[0maxis\u001b[0m\u001b[0;34m=\u001b[0m\u001b[0;36m0\u001b[0m\u001b[0;34m,\u001b[0m \u001b[0mignore_index\u001b[0m\u001b[0;34m=\u001b[0m\u001b[0;32mTrue\u001b[0m\u001b[0;34m)\u001b[0m\u001b[0;34m\u001b[0m\u001b[0;34m\u001b[0m\u001b[0m\n\u001b[0m\u001b[1;32m      2\u001b[0m \u001b[0mframeA\u001b[0m\u001b[0;34m=\u001b[0m\u001b[0mframeA\u001b[0m\u001b[0;34m.\u001b[0m\u001b[0mdrop\u001b[0m\u001b[0;34m(\u001b[0m\u001b[0mframeA\u001b[0m\u001b[0;34m.\u001b[0m\u001b[0mcolumns\u001b[0m\u001b[0;34m[\u001b[0m\u001b[0;36m0\u001b[0m\u001b[0;34m]\u001b[0m\u001b[0;34m,\u001b[0m \u001b[0maxis\u001b[0m\u001b[0;34m=\u001b[0m\u001b[0;34m'columns'\u001b[0m\u001b[0;34m)\u001b[0m\u001b[0;34m\u001b[0m\u001b[0;34m\u001b[0m\u001b[0m\n\u001b[1;32m      3\u001b[0m \u001b[0;34m\u001b[0m\u001b[0m\n\u001b[1;32m      4\u001b[0m \u001b[0mframeB\u001b[0m \u001b[0;34m=\u001b[0m \u001b[0mpd\u001b[0m\u001b[0;34m.\u001b[0m\u001b[0mconcat\u001b[0m\u001b[0;34m(\u001b[0m\u001b[0mdataB\u001b[0m\u001b[0;34m,\u001b[0m \u001b[0maxis\u001b[0m\u001b[0;34m=\u001b[0m\u001b[0;36m0\u001b[0m\u001b[0;34m,\u001b[0m \u001b[0mignore_index\u001b[0m\u001b[0;34m=\u001b[0m\u001b[0;32mTrue\u001b[0m\u001b[0;34m)\u001b[0m\u001b[0;34m\u001b[0m\u001b[0;34m\u001b[0m\u001b[0m\n\u001b[1;32m      5\u001b[0m \u001b[0mframeB\u001b[0m\u001b[0;34m=\u001b[0m\u001b[0mframeB\u001b[0m\u001b[0;34m.\u001b[0m\u001b[0mdrop\u001b[0m\u001b[0;34m(\u001b[0m\u001b[0mframeB\u001b[0m\u001b[0;34m.\u001b[0m\u001b[0mcolumns\u001b[0m\u001b[0;34m[\u001b[0m\u001b[0;36m0\u001b[0m\u001b[0;34m]\u001b[0m\u001b[0;34m,\u001b[0m \u001b[0maxis\u001b[0m\u001b[0;34m=\u001b[0m\u001b[0;34m'columns'\u001b[0m\u001b[0;34m)\u001b[0m\u001b[0;34m\u001b[0m\u001b[0;34m\u001b[0m\u001b[0m\n",
            "\u001b[0;32m/usr/local/lib/python3.6/dist-packages/pandas/core/reshape/concat.py\u001b[0m in \u001b[0;36mconcat\u001b[0;34m(objs, axis, join, ignore_index, keys, levels, names, verify_integrity, sort, copy)\u001b[0m\n\u001b[1;32m    282\u001b[0m         \u001b[0mverify_integrity\u001b[0m\u001b[0;34m=\u001b[0m\u001b[0mverify_integrity\u001b[0m\u001b[0;34m,\u001b[0m\u001b[0;34m\u001b[0m\u001b[0;34m\u001b[0m\u001b[0m\n\u001b[1;32m    283\u001b[0m         \u001b[0mcopy\u001b[0m\u001b[0;34m=\u001b[0m\u001b[0mcopy\u001b[0m\u001b[0;34m,\u001b[0m\u001b[0;34m\u001b[0m\u001b[0;34m\u001b[0m\u001b[0m\n\u001b[0;32m--> 284\u001b[0;31m         \u001b[0msort\u001b[0m\u001b[0;34m=\u001b[0m\u001b[0msort\u001b[0m\u001b[0;34m,\u001b[0m\u001b[0;34m\u001b[0m\u001b[0;34m\u001b[0m\u001b[0m\n\u001b[0m\u001b[1;32m    285\u001b[0m     )\n\u001b[1;32m    286\u001b[0m \u001b[0;34m\u001b[0m\u001b[0m\n",
            "\u001b[0;32m/usr/local/lib/python3.6/dist-packages/pandas/core/reshape/concat.py\u001b[0m in \u001b[0;36m__init__\u001b[0;34m(self, objs, axis, join, keys, levels, names, ignore_index, verify_integrity, copy, sort)\u001b[0m\n\u001b[1;32m    329\u001b[0m \u001b[0;34m\u001b[0m\u001b[0m\n\u001b[1;32m    330\u001b[0m         \u001b[0;32mif\u001b[0m \u001b[0mlen\u001b[0m\u001b[0;34m(\u001b[0m\u001b[0mobjs\u001b[0m\u001b[0;34m)\u001b[0m \u001b[0;34m==\u001b[0m \u001b[0;36m0\u001b[0m\u001b[0;34m:\u001b[0m\u001b[0;34m\u001b[0m\u001b[0;34m\u001b[0m\u001b[0m\n\u001b[0;32m--> 331\u001b[0;31m             \u001b[0;32mraise\u001b[0m \u001b[0mValueError\u001b[0m\u001b[0;34m(\u001b[0m\u001b[0;34m\"No objects to concatenate\"\u001b[0m\u001b[0;34m)\u001b[0m\u001b[0;34m\u001b[0m\u001b[0;34m\u001b[0m\u001b[0m\n\u001b[0m\u001b[1;32m    332\u001b[0m \u001b[0;34m\u001b[0m\u001b[0m\n\u001b[1;32m    333\u001b[0m         \u001b[0;32mif\u001b[0m \u001b[0mkeys\u001b[0m \u001b[0;32mis\u001b[0m \u001b[0;32mNone\u001b[0m\u001b[0;34m:\u001b[0m\u001b[0;34m\u001b[0m\u001b[0;34m\u001b[0m\u001b[0m\n",
            "\u001b[0;31mValueError\u001b[0m: No objects to concatenate"
          ]
        }
      ]
    },
    {
      "cell_type": "code",
      "metadata": {
        "id": "88JdWq-amCGS"
      },
      "source": [
        "frameA.to_csv('rerA.csv')\r\n",
        "!cp rerA.csv \"drive/My Drive/RER/\"\r\n",
        "\r\n",
        "frameB.to_csv('rerB.csv')\r\n",
        "!cp rerB.csv \"drive/My Drive/RER/\"\r\n",
        "\r\n",
        "frameC.to_csv('rerC.csv')\r\n",
        "!cp rerC.csv \"drive/My Drive/RER/\"\r\n",
        "\r\n",
        "frameD.to_csv('rerD.csv')\r\n",
        "!cp rerD.csv \"drive/My Drive/RER/\"\r\n",
        "\r\n",
        "frameE.to_csv('rerE.csv')\r\n",
        "!cp rerE.csv \"drive/My Drive/RER/\""
      ],
      "execution_count": null,
      "outputs": []
    },
    {
      "cell_type": "markdown",
      "metadata": {
        "id": "861NZGct6AMa"
      },
      "source": [
        "# **Partie 3 :** Analyse de sentiment\n",
        "\n",
        "On va maintenant chercher à calculer les sentiments d'une ligne précise de RER à une heure précise. Pour cela on commence par créer la fonction concatenation ci-dessous. Elle va permettre de transformer une liste de tweets en une seule phrase géante. Cela rend la fonction de sentiment de textblob plus précise. En effet, ensuite, on crée la fonction \"sentiment1\". Elle analyse les sentiments d'une ligne une heure précise que si l'on calculait le sentiment de chaque tweet et que l'on faisait ensuite une moyenne des sentiments car les tweets contiennent peu de mots. Ainsi, plutôt que d'appliquer la fonction sentiment.polarity de textblob à chaque tweet, on va l'appliquer à la phrase géante contenant l'ensemble des tweets pour avoir directement le sentiment moyen des tweets sur cette ligne à cette heure précise."
      ]
    },
    {
      "cell_type": "code",
      "metadata": {
        "id": "-kpod4vTgN4r"
      },
      "source": [
        "def concatenation(liste) :\n",
        "  liste_geante=[]\n",
        "  string=''\n",
        "  for tweet in liste :\n",
        "    string+=tweet\n",
        "  liste_geante.append(string)\n",
        "  return(liste_geante)"
      ],
      "execution_count": null,
      "outputs": []
    },
    {
      "cell_type": "code",
      "metadata": {
        "id": "jkHSIaFSMPFg"
      },
      "source": [
        "def sentiment1(liste_tweets, liste_heures, heure) :\n",
        "  h1=heure\n",
        "  h2=heure+1\n",
        "  liste_tweets_heure=[]\n",
        "  for k in range(len(liste_heures)) :\n",
        "    if liste_heures[k].hour>=h1 and liste_heures[k].hour<=h2 : #pour ne garder que les tweets produits à cette heure-là\n",
        "      liste_tweets_heure+=liste_tweets[k]\n",
        "  liste_tweets_heure=concatenation(liste_tweets_heure)\n",
        "  blob=TextBlob(liste_tweets_heure[0])\n",
        "  return(blob.sentiment.polarity)"
      ],
      "execution_count": null,
      "outputs": []
    },
    {
      "cell_type": "markdown",
      "metadata": {
        "id": "oIkNFyFpwd1y"
      },
      "source": [
        "On va maintenant ouvrir les fichiers csv que l'on a stockés dans notre drive pour pouvoir analyser les sentiments de nos listes de tweets (qui sont désormais plus grandes que ce que api.search nous avait donné)."
      ]
    },
    {
      "cell_type": "code",
      "metadata": {
        "id": "mM07tuOqw2i3",
        "colab": {
          "base_uri": "https://localhost:8080/",
          "height": 231
        },
        "outputId": "d43e4c82-c28c-4902-8d2d-4422dca36070"
      },
      "source": [
        "tweets_A=[]\n",
        "heures_A=[]\n",
        "crA=csv.reader(open('rerA.csv', 'r'))\n",
        "for row in crA : \n",
        "  if row[2]!='heure_du_tweet' :\n",
        "    tweets_A.append(row[1])\n",
        "    heures_A.append(datetime.strptime(row[2], \"%Y-%m-%d %H:%M:%S\"))\n",
        "\n",
        "tweets_B=[]\n",
        "heures_B=[]\n",
        "crB=csv.reader(open('rerB.csv', 'r'))\n",
        "for row in crB : \n",
        "  if row[2]!='heure_du_tweet' :\n",
        "    tweets_B.append(row[1])\n",
        "    heures_B.append(datetime.strptime(row[2], \"%Y-%m-%d %H:%M:%S\"))\n",
        "\n",
        "tweets_C=[]\n",
        "heures_C=[]\n",
        "crC=csv.reader(open('rerC.csv', 'r'))\n",
        "for row in crC : \n",
        "  if row[2]!='heure_du_tweet' : \n",
        "    tweets_C.append(row[1])\n",
        "    heures_C.append(datetime.strptime(row[2], \"%Y-%m-%d %H:%M:%S\"))\n",
        "\n",
        "tweets_D=[]\n",
        "heures_D=[]\n",
        "crD=csv.reader(open('rerD.csv', 'r'))\n",
        "for row in crD : \n",
        "  if row[2]!='heure_du_tweet' : \n",
        "    tweets_D.append(row[1])\n",
        "    heures_D.append(datetime.strptime(row[2], \"%Y-%m-%d %H:%M:%S\"))\n",
        "\n",
        "tweets_E=[]\n",
        "heures_E=[]\n",
        "crE=csv.reader(open('rerE.csv', 'r'))\n",
        "for row in crE : \n",
        "  if row[2]!='heure_du_tweet' : \n",
        "    tweets_E.append(row[1])\n",
        "    heures_E.append(datetime.strptime(row[2], \"%Y-%m-%d %H:%M:%S\"))"
      ],
      "execution_count": null,
      "outputs": [
        {
          "output_type": "error",
          "ename": "FileNotFoundError",
          "evalue": "ignored",
          "traceback": [
            "\u001b[0;31m---------------------------------------------------------------------------\u001b[0m",
            "\u001b[0;31mFileNotFoundError\u001b[0m                         Traceback (most recent call last)",
            "\u001b[0;32m<ipython-input-41-ed5b41378b59>\u001b[0m in \u001b[0;36m<module>\u001b[0;34m()\u001b[0m\n\u001b[1;32m      1\u001b[0m \u001b[0mtweets_A\u001b[0m\u001b[0;34m=\u001b[0m\u001b[0;34m[\u001b[0m\u001b[0;34m]\u001b[0m\u001b[0;34m\u001b[0m\u001b[0;34m\u001b[0m\u001b[0m\n\u001b[1;32m      2\u001b[0m \u001b[0mheures_A\u001b[0m\u001b[0;34m=\u001b[0m\u001b[0;34m[\u001b[0m\u001b[0;34m]\u001b[0m\u001b[0;34m\u001b[0m\u001b[0;34m\u001b[0m\u001b[0m\n\u001b[0;32m----> 3\u001b[0;31m \u001b[0mcrA\u001b[0m\u001b[0;34m=\u001b[0m\u001b[0mcsv\u001b[0m\u001b[0;34m.\u001b[0m\u001b[0mreader\u001b[0m\u001b[0;34m(\u001b[0m\u001b[0mopen\u001b[0m\u001b[0;34m(\u001b[0m\u001b[0;34m'rerA.csv'\u001b[0m\u001b[0;34m,\u001b[0m \u001b[0;34m'r'\u001b[0m\u001b[0;34m)\u001b[0m\u001b[0;34m)\u001b[0m\u001b[0;34m\u001b[0m\u001b[0;34m\u001b[0m\u001b[0m\n\u001b[0m\u001b[1;32m      4\u001b[0m \u001b[0;32mfor\u001b[0m \u001b[0mrow\u001b[0m \u001b[0;32min\u001b[0m \u001b[0mcrA\u001b[0m \u001b[0;34m:\u001b[0m\u001b[0;34m\u001b[0m\u001b[0;34m\u001b[0m\u001b[0m\n\u001b[1;32m      5\u001b[0m   \u001b[0;32mif\u001b[0m \u001b[0mrow\u001b[0m\u001b[0;34m[\u001b[0m\u001b[0;36m2\u001b[0m\u001b[0;34m]\u001b[0m\u001b[0;34m!=\u001b[0m\u001b[0;34m'heure_du_tweet'\u001b[0m \u001b[0;34m:\u001b[0m\u001b[0;34m\u001b[0m\u001b[0;34m\u001b[0m\u001b[0m\n",
            "\u001b[0;31mFileNotFoundError\u001b[0m: [Errno 2] No such file or directory: 'rerA.csv'"
          ]
        }
      ]
    },
    {
      "cell_type": "code",
      "metadata": {
        "colab": {
          "base_uri": "https://localhost:8080/"
        },
        "id": "EqMcVBGS7FH3",
        "outputId": "f2d85b84-f3b7-4fd1-9713-eadd6d3923aa"
      },
      "source": [
        "sentiment1(tweets_C, heures_C, 7)"
      ],
      "execution_count": null,
      "outputs": [
        {
          "output_type": "execute_result",
          "data": {
            "text/plain": [
              "-0.525"
            ]
          },
          "metadata": {
            "tags": []
          },
          "execution_count": 24
        }
      ]
    },
    {
      "cell_type": "markdown",
      "metadata": {
        "id": "oBeSMBPi-8dv"
      },
      "source": [
        "On a donc pris en exemple, ci-dessus, la satisfaction des usagers du RER C à 7h, heure de pointe. sentiment.polarity est une fonction qui va de -1 à 1, ainsi on peut en déduire qu'à 7h, les usagers du RER A étaient globalement non satisfaits du service. On va maintenant chercher à tracer la satisfaction en fonction de l'heure."
      ]
    },
    {
      "cell_type": "code",
      "metadata": {
        "colab": {
          "base_uri": "https://localhost:8080/",
          "height": 295
        },
        "id": "_TJN6gXZ_WHX",
        "outputId": "b6c3226e-5054-4b0d-876d-f5fdc7166ed2"
      },
      "source": [
        "heures=[k for k in range(24)]\n",
        "satisfaction_rer_A=[sentiment1(tweets_A, heures_A, k) for k in range(24)]\n",
        "satisfaction_rer_B=[sentiment1(tweets_B, heures_B, k) for k in range(24)]\n",
        "satisfaction_rer_C=[sentiment1(tweets_C, heures_C, k) for k in range(24)]\n",
        "satisfaction_rer_D=[sentiment1(tweets_D, heures_D, k) for k in range(24)]\n",
        "satisfaction_rer_E=[sentiment1(tweets_E, heures_E, k) for k in range(24)]\n",
        "plt.plot(heures,satisfaction_rer_A, 'o', label='rer A')\n",
        "plt.plot(heures,satisfaction_rer_B, 'o', label= 'rer B')\n",
        "plt.plot(heures,satisfaction_rer_C, 'o', label= 'rer C')\n",
        "plt.plot(heures,satisfaction_rer_D, 'o', label= 'rer D')\n",
        "plt.plot(heures,satisfaction_rer_E, 'o', label= 'rer E')\n",
        "plt.xlabel('Heure')\n",
        "plt.ylabel('Satisfaction')\n",
        "plt.title(\"Satisfaction des usagers du RER en fonction de l'heure de la journée\")\n",
        "plt.legend()\n",
        "plt.show()"
      ],
      "execution_count": null,
      "outputs": [
        {
          "output_type": "display_data",
          "data": {
            "image/png": "[encoded data removed]",
            "text/plain": [
              "<Figure size 432x288 with 1 Axes>"
            ]
          },
          "metadata": {
            "tags": [],
            "needs_background": "light"
          }
        }
      ]
    },
    {
      "cell_type": "markdown",
      "metadata": {
        "id": "S9oy-NxS-xBs"
      },
      "source": [
        "On a donc ci-dessus un graphique illustrant la satisfaction des usagers du RER en fonction de l'heure de la journée. Plus on est proches de -1, moins les usagers sont satisfaits. A l'inverse, plus on se rapproche de 1, plus ils le sont. La satisfaction varie beaucoup selon l'heure, ont peut constater par exemple que le matin les usagers du RER A sont très insatisfaits du service qui leur est proposé, et les usagers du RER B sont en moyenne plutôt mécontents car ils dépassent rarement la barre du 0. En moyenne on peut remarquer que l'on est plus souvent du côté négatif que positif et que les tweets positifs ne sont pas autant poussés que les tweets négatifs (en effet, on va souvent vers -1 alors qu'on dépasse rarement 0,5).  Cependant, on peut constater que l'on manque un peu de données. En effet, lorsque le niveau de satisfaction est à 0 pile, on peut penser qu'il y avait très peu voire pas de tweets sur le RER en question à cette heure là. C'est notamment le cas du RER E, les usagers ont l'air de faire peu de tweets à son sujet. Le schéma qui a l'air de revenir est une insatisfaction aux heures de pointe et les passagers sont neutres voire plutôt satisfaits le reste du temps."
      ]
    },
    {
      "cell_type": "markdown",
      "metadata": {
        "id": "3huxdtSub44o"
      },
      "source": [
        "On essaye ensuite de créer notre propre fonction d'analyse de sentiments des tweets. En effet nous ne savons pas à quel points les tweets peuvent utiliser du vocabulaire que sentiment.polarity ne saura pas prendre en compte. Ainsi, on va chercher à créer une fonction qui va repérer les tweets négatifs, ou plutôt les mots négatifs qu'ils contiennent. Pour cela, elle utilisera simplement un compteur de mots négatifs qui viennent d'une liste que l'on a créée et qui couvre un grand nombre de mots négatifs qui peuvent être dits à propos des transports. Ainsi avec notre nouvelle fonction, plus on obtient un score élevé, plus il y a eu de tweets négatifs sur une certaine ligne. On va également tracer la satisfaction en fonction de l'heure avec notre nouvelle fonction et comparer le résultat à celui obtenu précédemment."
      ]
    },
    {
      "cell_type": "code",
      "metadata": {
        "id": "ZOE0nnEvSXtu"
      },
      "source": [
        "mots_negatifs=[\"retard\", \"blindé\", \"bondé\", \"panne\", \"haine\", \"seum\", \"souci\", \"soucis\", \"problème\", \"problèmes\", \"malaise\", \"monde\", \"danger\", \"chaud\", \"voleur\", \"agression\", \"frotteur\", \"sexuel\", \"controler\", \"debout\", \"putain\", \"nsm\", \"ptn\",\"bagage\", \"incident\", \"contrôleurs\",\"perturbé\", \"sale\", \"dégradé\", \"puant\", \"pue\", \"crade\", \"attente\", \"pute\", \"long\", \"longtemps\", \"plombes\", \"chiant\", \"merde\", \"relou\", \"perturbations\", \"interrompu\", \"colis\", \"suspect\"]\n",
        "\n",
        "def sentiment_construit(tweet) :\n",
        "  phrase=tweet.split()\n",
        "  compteur=0\n",
        "  for k in range(len(phrase)) :\n",
        "    if phrase[k] in mots_negatifs :\n",
        "      compteur+=1\n",
        "  return(compteur)\n",
        "\n",
        "def score(liste) :\n",
        "  S=0\n",
        "  for tweet in liste :\n",
        "    S+=sentiment_construit(tweet)\n",
        "  return(S)\n",
        "\n",
        "def sentiment2(liste_tweets, liste_heures, heure) :\n",
        "  h1=heure\n",
        "  h2=heure+1\n",
        "  liste_tweets_heure=[]\n",
        "  for k in range(len(liste_heures)) :\n",
        "    if liste_heures[k].hour>=h1 and liste_heures[k].hour<=h2 : \n",
        "      liste_tweets_heure.append(liste_tweets[k])\n",
        "  return(score(liste_tweets_heure))\n"
      ],
      "execution_count": null,
      "outputs": []
    },
    {
      "cell_type": "markdown",
      "metadata": {
        "id": "IJfXZh__vSLY"
      },
      "source": [
        "Nous allons montrer un exemple d'utilisation de notre fonction sentiment_construit en utilisant une phrase négative possible exprimée à propos du RER."
      ]
    },
    {
      "cell_type": "code",
      "metadata": {
        "colab": {
          "base_uri": "https://localhost:8080/"
        },
        "id": "9bs-dkn2vRwb",
        "outputId": "93a57ae3-b624-4a0a-ee18-b74fb6372c4f"
      },
      "source": [
        "sentiment_construit(\"RER de merde c'était blindé j'étais debout pendant des plombes\")"
      ],
      "execution_count": null,
      "outputs": [
        {
          "output_type": "execute_result",
          "data": {
            "text/plain": [
              "4"
            ]
          },
          "metadata": {
            "tags": []
          },
          "execution_count": 28
        }
      ]
    },
    {
      "cell_type": "code",
      "metadata": {
        "colab": {
          "base_uri": "https://localhost:8080/",
          "height": 295
        },
        "id": "J9N8OwiOJB21",
        "outputId": "4846ce08-d4f5-487c-eb72-eed031d3c443"
      },
      "source": [
        "heures=[k for k in range(24)]\n",
        "satisfaction_rer_A_2=[sentiment2(tweets_A, heures_A, k) for k in range(24)]\n",
        "satisfaction_rer_B_2=[sentiment2(tweets_B, heures_B, k) for k in range(24)]\n",
        "satisfaction_rer_C_2=[sentiment2(tweets_C, heures_C, k) for k in range(24)]\n",
        "satisfaction_rer_D_2=[sentiment2(tweets_D, heures_D, k) for k in range(24)]\n",
        "satisfaction_rer_E_2=[sentiment2(tweets_E, heures_E, k) for k in range(24)]\n",
        "plt.plot(heures,satisfaction_rer_A_2, 'o', label='rer A')\n",
        "plt.plot(heures,satisfaction_rer_B_2, 'o', label= 'rer B')\n",
        "plt.plot(heures,satisfaction_rer_C_2, 'o', label= 'rer C')\n",
        "plt.plot(heures,satisfaction_rer_D_2, 'o', label= 'rer D')\n",
        "plt.plot(heures,satisfaction_rer_E_2, 'o', label= 'rer E')\n",
        "plt.xlabel('Heure')\n",
        "plt.ylabel('Satisfaction')\n",
        "plt.title(\"Satisfaction des usagers du RER en fonction de l'heure de la journée\")\n",
        "plt.legend()\n",
        "plt.show()"
      ],
      "execution_count": null,
      "outputs": [
        {
          "output_type": "display_data",
          "data": {
            "image/png": "[encoded data removed]",
            "text/plain": [
              "<Figure size 432x288 with 1 Axes>"
            ]
          },
          "metadata": {
            "tags": [],
            "needs_background": "light"
          }
        }
      ]
    },
    {
      "cell_type": "markdown",
      "metadata": {
        "id": "ZpJA2MhqvKV6"
      },
      "source": [
        "On constate quand même qu'il y a un niveau d'insatisfaction général puisqu'il y a peu de tweets qui restent à 0 alors que dans notre fonction, contrairement à celle de textblob, 0 représente le neutre et le positif. Ainsi, à part pour le RER E qui manque de tweets à son sujet, on voit bien que l'on atteint des scores plutôt élevés sur chaque ligne, notamment à l'heure de pointe du matin, ce qui témoigne d'un mécontentement global des services publics de transport. On a l'impression que cette méthode recense plus la négativité que la fonction de texblob, certainement parce qu'on a intégré du vocabulaire plus utilisé sur Internet que celui de sentiment1. Cependant, elle reste légèrement imprécise car on ne peut pas couvrir les tweets positifs. Nous avons choisi de ne pas avoir de compteur de mots positifs pour éviter de prendre en compte des tweets ironiques dans les tweets positifs. En effet, on pourrait très bien avoir un usager qui tweete \"Génial le RER ce matin\" de manière ironique et il serait perçu comme un tweet positif. C'est un problème que rencontre sûrement la fonction sentiment1 aussi."
      ]
    },
    {
      "cell_type": "markdown",
      "metadata": {
        "id": "JOS3GDgdvtA3"
      },
      "source": [
        "Pour compléter ce qu'on pourrait observer sur le graphe, on se décide à effectuer une régression linéaire de la satisfaction sur l'heure pour chaque rer, avec le module sklearn. "
      ]
    },
    {
      "cell_type": "code",
      "metadata": {
        "colab": {
          "base_uri": "https://localhost:8080/",
          "height": 231
        },
        "id": "SWTBAsv2wJ02",
        "outputId": "ff72a486-d3a6-4632-86d6-a81e73d67add"
      },
      "source": [
        "XA= satisfaction_rer_A_2 \r\n",
        "XB= satisfaction_rer_B_2\r\n",
        "XC= satisfaction_rer_C_2\r\n",
        "XD= satisfaction_rer_D_2\r\n",
        "XE= satisfaction_rer_E_2\r\n",
        "Y = heures\r\n",
        "\r\n",
        "regA = LinearRegression().fit(XA, Y)\r\n",
        "regB = LinearRegression().fit(XB, Y)\r\n",
        "regC = LinearRegression().fit(XC, Y)\r\n",
        "regD = LinearRegression().fit(XD, Y)\r\n",
        "regE = LinearRegression().fit(XE, Y)\r\n",
        "\r\n",
        "print (regA.score(XA,Y), regB.score(XB,Y), regC.score(XC,Y), regD.score(XD,Y), regE.score(XE,Y) )"
      ],
      "execution_count": null,
      "outputs": [
        {
          "output_type": "error",
          "ename": "NameError",
          "evalue": "ignored",
          "traceback": [
            "\u001b[0;31m---------------------------------------------------------------------------\u001b[0m",
            "\u001b[0;31mNameError\u001b[0m                                 Traceback (most recent call last)",
            "\u001b[0;32m<ipython-input-1-21bc1da87649>\u001b[0m in \u001b[0;36m<module>\u001b[0;34m()\u001b[0m\n\u001b[0;32m----> 1\u001b[0;31m \u001b[0mXA\u001b[0m\u001b[0;34m=\u001b[0m \u001b[0msatisfaction_rer_A_2\u001b[0m\u001b[0;34m\u001b[0m\u001b[0;34m\u001b[0m\u001b[0m\n\u001b[0m\u001b[1;32m      2\u001b[0m \u001b[0mXB\u001b[0m\u001b[0;34m=\u001b[0m \u001b[0msatisfaction_rer_B_2\u001b[0m\u001b[0;34m\u001b[0m\u001b[0;34m\u001b[0m\u001b[0m\n\u001b[1;32m      3\u001b[0m \u001b[0mXC\u001b[0m\u001b[0;34m=\u001b[0m \u001b[0msatisfaction_rer_C_2\u001b[0m\u001b[0;34m\u001b[0m\u001b[0;34m\u001b[0m\u001b[0m\n\u001b[1;32m      4\u001b[0m \u001b[0mXD\u001b[0m\u001b[0;34m=\u001b[0m \u001b[0msatisfaction_rer_D_2\u001b[0m\u001b[0;34m\u001b[0m\u001b[0;34m\u001b[0m\u001b[0m\n\u001b[1;32m      5\u001b[0m \u001b[0mXE\u001b[0m\u001b[0;34m=\u001b[0m \u001b[0msatisfaction_rer_E_2\u001b[0m\u001b[0;34m\u001b[0m\u001b[0;34m\u001b[0m\u001b[0m\n",
            "\u001b[0;31mNameError\u001b[0m: name 'satisfaction_rer_A_2' is not defined"
          ]
        }
      ]
    },
    {
      "cell_type": "code",
      "metadata": {
        "colab": {
          "base_uri": "https://localhost:8080/",
          "height": 527
        },
        "id": "1QFNLKPrzmDm",
        "outputId": "e31e41d7-5ee1-4884-bfb0-49041382d394"
      },
      "source": [
        "from google.colab import drive\n",
        "drive.mount(\"drive\", force_remount=True)"
      ],
      "execution_count": null,
      "outputs": [
        {
          "output_type": "error",
          "ename": "KeyboardInterrupt",
          "evalue": "ignored",
          "traceback": [
            "\u001b[0;31m---------------------------------------------------------------------------\u001b[0m",
            "\u001b[0;31mKeyboardInterrupt\u001b[0m                         Traceback (most recent call last)",
            "\u001b[0;32m/usr/local/lib/python3.6/dist-packages/ipykernel/kernelbase.py\u001b[0m in \u001b[0;36m_input_request\u001b[0;34m(self, prompt, ident, parent, password)\u001b[0m\n\u001b[1;32m    728\u001b[0m             \u001b[0;32mtry\u001b[0m\u001b[0;34m:\u001b[0m\u001b[0;34m\u001b[0m\u001b[0;34m\u001b[0m\u001b[0m\n\u001b[0;32m--> 729\u001b[0;31m                 \u001b[0mident\u001b[0m\u001b[0;34m,\u001b[0m \u001b[0mreply\u001b[0m \u001b[0;34m=\u001b[0m \u001b[0mself\u001b[0m\u001b[0;34m.\u001b[0m\u001b[0msession\u001b[0m\u001b[0;34m.\u001b[0m\u001b[0mrecv\u001b[0m\u001b[0;34m(\u001b[0m\u001b[0mself\u001b[0m\u001b[0;34m.\u001b[0m\u001b[0mstdin_socket\u001b[0m\u001b[0;34m,\u001b[0m \u001b[0;36m0\u001b[0m\u001b[0;34m)\u001b[0m\u001b[0;34m\u001b[0m\u001b[0;34m\u001b[0m\u001b[0m\n\u001b[0m\u001b[1;32m    730\u001b[0m             \u001b[0;32mexcept\u001b[0m \u001b[0mException\u001b[0m\u001b[0;34m:\u001b[0m\u001b[0;34m\u001b[0m\u001b[0;34m\u001b[0m\u001b[0m\n",
            "\u001b[0;32m/usr/local/lib/python3.6/dist-packages/jupyter_client/session.py\u001b[0m in \u001b[0;36mrecv\u001b[0;34m(self, socket, mode, content, copy)\u001b[0m\n\u001b[1;32m    802\u001b[0m         \u001b[0;32mtry\u001b[0m\u001b[0;34m:\u001b[0m\u001b[0;34m\u001b[0m\u001b[0;34m\u001b[0m\u001b[0m\n\u001b[0;32m--> 803\u001b[0;31m             \u001b[0mmsg_list\u001b[0m \u001b[0;34m=\u001b[0m \u001b[0msocket\u001b[0m\u001b[0;34m.\u001b[0m\u001b[0mrecv_multipart\u001b[0m\u001b[0;34m(\u001b[0m\u001b[0mmode\u001b[0m\u001b[0;34m,\u001b[0m \u001b[0mcopy\u001b[0m\u001b[0;34m=\u001b[0m\u001b[0mcopy\u001b[0m\u001b[0;34m)\u001b[0m\u001b[0;34m\u001b[0m\u001b[0;34m\u001b[0m\u001b[0m\n\u001b[0m\u001b[1;32m    804\u001b[0m         \u001b[0;32mexcept\u001b[0m \u001b[0mzmq\u001b[0m\u001b[0;34m.\u001b[0m\u001b[0mZMQError\u001b[0m \u001b[0;32mas\u001b[0m \u001b[0me\u001b[0m\u001b[0;34m:\u001b[0m\u001b[0;34m\u001b[0m\u001b[0;34m\u001b[0m\u001b[0m\n",
            "\u001b[0;32m/usr/local/lib/python3.6/dist-packages/zmq/sugar/socket.py\u001b[0m in \u001b[0;36mrecv_multipart\u001b[0;34m(self, flags, copy, track)\u001b[0m\n\u001b[1;32m    565\u001b[0m         \"\"\"\n\u001b[0;32m--> 566\u001b[0;31m         \u001b[0mparts\u001b[0m \u001b[0;34m=\u001b[0m \u001b[0;34m[\u001b[0m\u001b[0mself\u001b[0m\u001b[0;34m.\u001b[0m\u001b[0mrecv\u001b[0m\u001b[0;34m(\u001b[0m\u001b[0mflags\u001b[0m\u001b[0;34m,\u001b[0m \u001b[0mcopy\u001b[0m\u001b[0;34m=\u001b[0m\u001b[0mcopy\u001b[0m\u001b[0;34m,\u001b[0m \u001b[0mtrack\u001b[0m\u001b[0;34m=\u001b[0m\u001b[0mtrack\u001b[0m\u001b[0;34m)\u001b[0m\u001b[0;34m]\u001b[0m\u001b[0;34m\u001b[0m\u001b[0;34m\u001b[0m\u001b[0m\n\u001b[0m\u001b[1;32m    567\u001b[0m         \u001b[0;31m# have first part already, only loop while more to receive\u001b[0m\u001b[0;34m\u001b[0m\u001b[0;34m\u001b[0m\u001b[0;34m\u001b[0m\u001b[0m\n",
            "\u001b[0;32mzmq/backend/cython/socket.pyx\u001b[0m in \u001b[0;36mzmq.backend.cython.socket.Socket.recv\u001b[0;34m()\u001b[0m\n",
            "\u001b[0;32mzmq/backend/cython/socket.pyx\u001b[0m in \u001b[0;36mzmq.backend.cython.socket.Socket.recv\u001b[0;34m()\u001b[0m\n",
            "\u001b[0;32mzmq/backend/cython/socket.pyx\u001b[0m in \u001b[0;36mzmq.backend.cython.socket._recv_copy\u001b[0;34m()\u001b[0m\n",
            "\u001b[0;32m/usr/local/lib/python3.6/dist-packages/zmq/backend/cython/checkrc.pxd\u001b[0m in \u001b[0;36mzmq.backend.cython.checkrc._check_rc\u001b[0;34m()\u001b[0m\n",
            "\u001b[0;31mKeyboardInterrupt\u001b[0m: ",
            "\nDuring handling of the above exception, another exception occurred:\n",
            "\u001b[0;31mKeyboardInterrupt\u001b[0m                         Traceback (most recent call last)",
            "\u001b[0;32m<ipython-input-15-19afbf01fa05>\u001b[0m in \u001b[0;36m<module>\u001b[0;34m()\u001b[0m\n\u001b[1;32m      1\u001b[0m \u001b[0;32mfrom\u001b[0m \u001b[0mgoogle\u001b[0m\u001b[0;34m.\u001b[0m\u001b[0mcolab\u001b[0m \u001b[0;32mimport\u001b[0m \u001b[0mdrive\u001b[0m\u001b[0;34m\u001b[0m\u001b[0;34m\u001b[0m\u001b[0m\n\u001b[0;32m----> 2\u001b[0;31m \u001b[0mdrive\u001b[0m\u001b[0;34m.\u001b[0m\u001b[0mmount\u001b[0m\u001b[0;34m(\u001b[0m\u001b[0;34m\"drive\"\u001b[0m\u001b[0;34m,\u001b[0m \u001b[0mforce_remount\u001b[0m\u001b[0;34m=\u001b[0m\u001b[0;32mTrue\u001b[0m\u001b[0;34m)\u001b[0m\u001b[0;34m\u001b[0m\u001b[0;34m\u001b[0m\u001b[0m\n\u001b[0m",
            "\u001b[0;32m/usr/local/lib/python3.6/dist-packages/google/colab/drive.py\u001b[0m in \u001b[0;36mmount\u001b[0;34m(mountpoint, force_remount, timeout_ms, use_metadata_server)\u001b[0m\n\u001b[1;32m    249\u001b[0m       \u001b[0;32mwith\u001b[0m \u001b[0m_output\u001b[0m\u001b[0;34m.\u001b[0m\u001b[0muse_tags\u001b[0m\u001b[0;34m(\u001b[0m\u001b[0;34m'dfs-auth-dance'\u001b[0m\u001b[0;34m)\u001b[0m\u001b[0;34m:\u001b[0m\u001b[0;34m\u001b[0m\u001b[0;34m\u001b[0m\u001b[0m\n\u001b[1;32m    250\u001b[0m         \u001b[0;32mwith\u001b[0m \u001b[0mopen\u001b[0m\u001b[0;34m(\u001b[0m\u001b[0mfifo\u001b[0m\u001b[0;34m,\u001b[0m \u001b[0;34m'w'\u001b[0m\u001b[0;34m)\u001b[0m \u001b[0;32mas\u001b[0m \u001b[0mfifo_file\u001b[0m\u001b[0;34m:\u001b[0m\u001b[0;34m\u001b[0m\u001b[0;34m\u001b[0m\u001b[0m\n\u001b[0;32m--> 251\u001b[0;31m           \u001b[0mfifo_file\u001b[0m\u001b[0;34m.\u001b[0m\u001b[0mwrite\u001b[0m\u001b[0;34m(\u001b[0m\u001b[0mget_code\u001b[0m\u001b[0;34m(\u001b[0m\u001b[0mauth_prompt\u001b[0m\u001b[0;34m)\u001b[0m \u001b[0;34m+\u001b[0m \u001b[0;34m'\\n'\u001b[0m\u001b[0;34m)\u001b[0m\u001b[0;34m\u001b[0m\u001b[0;34m\u001b[0m\u001b[0m\n\u001b[0m\u001b[1;32m    252\u001b[0m       \u001b[0mwrote_to_fifo\u001b[0m \u001b[0;34m=\u001b[0m \u001b[0;32mTrue\u001b[0m\u001b[0;34m\u001b[0m\u001b[0;34m\u001b[0m\u001b[0m\n\u001b[1;32m    253\u001b[0m     \u001b[0;32melif\u001b[0m \u001b[0mcase\u001b[0m \u001b[0;34m==\u001b[0m \u001b[0;36m5\u001b[0m\u001b[0;34m:\u001b[0m\u001b[0;34m\u001b[0m\u001b[0;34m\u001b[0m\u001b[0m\n",
            "\u001b[0;32m/usr/local/lib/python3.6/dist-packages/ipykernel/kernelbase.py\u001b[0m in \u001b[0;36mraw_input\u001b[0;34m(self, prompt)\u001b[0m\n\u001b[1;32m    702\u001b[0m             \u001b[0mself\u001b[0m\u001b[0;34m.\u001b[0m\u001b[0m_parent_ident\u001b[0m\u001b[0;34m,\u001b[0m\u001b[0;34m\u001b[0m\u001b[0;34m\u001b[0m\u001b[0m\n\u001b[1;32m    703\u001b[0m             \u001b[0mself\u001b[0m\u001b[0;34m.\u001b[0m\u001b[0m_parent_header\u001b[0m\u001b[0;34m,\u001b[0m\u001b[0;34m\u001b[0m\u001b[0;34m\u001b[0m\u001b[0m\n\u001b[0;32m--> 704\u001b[0;31m             \u001b[0mpassword\u001b[0m\u001b[0;34m=\u001b[0m\u001b[0;32mFalse\u001b[0m\u001b[0;34m,\u001b[0m\u001b[0;34m\u001b[0m\u001b[0;34m\u001b[0m\u001b[0m\n\u001b[0m\u001b[1;32m    705\u001b[0m         )\n\u001b[1;32m    706\u001b[0m \u001b[0;34m\u001b[0m\u001b[0m\n",
            "\u001b[0;32m/usr/local/lib/python3.6/dist-packages/ipykernel/kernelbase.py\u001b[0m in \u001b[0;36m_input_request\u001b[0;34m(self, prompt, ident, parent, password)\u001b[0m\n\u001b[1;32m    732\u001b[0m             \u001b[0;32mexcept\u001b[0m \u001b[0mKeyboardInterrupt\u001b[0m\u001b[0;34m:\u001b[0m\u001b[0;34m\u001b[0m\u001b[0;34m\u001b[0m\u001b[0m\n\u001b[1;32m    733\u001b[0m                 \u001b[0;31m# re-raise KeyboardInterrupt, to truncate traceback\u001b[0m\u001b[0;34m\u001b[0m\u001b[0;34m\u001b[0m\u001b[0;34m\u001b[0m\u001b[0m\n\u001b[0;32m--> 734\u001b[0;31m                 \u001b[0;32mraise\u001b[0m \u001b[0mKeyboardInterrupt\u001b[0m\u001b[0;34m\u001b[0m\u001b[0;34m\u001b[0m\u001b[0m\n\u001b[0m\u001b[1;32m    735\u001b[0m             \u001b[0;32melse\u001b[0m\u001b[0;34m:\u001b[0m\u001b[0;34m\u001b[0m\u001b[0;34m\u001b[0m\u001b[0m\n\u001b[1;32m    736\u001b[0m                 \u001b[0;32mbreak\u001b[0m\u001b[0;34m\u001b[0m\u001b[0;34m\u001b[0m\u001b[0m\n",
            "\u001b[0;31mKeyboardInterrupt\u001b[0m: "
          ]
        }
      ]
    },
    {
      "cell_type": "code",
      "metadata": {
        "colab": {
          "base_uri": "https://localhost:8080/"
        },
        "id": "YS3cazh-jksD",
        "outputId": "c1cdd994-e853-43dd-f070-c8fc7e05e24b"
      },
      "source": [
        "import word2vec\n",
        "vocabulaire = KeyedVectors.load_word2vec_format('http://embeddings.net/frWac_non_lem_no_postag_no_phrase_200_cbow_cut100.bin', binary=True)\n",
        "!cp vocabulaire \"drive/My Drive/\"\n"
      ],
      "execution_count": null,
      "outputs": [
        {
          "output_type": "stream",
          "text": [
            "Collecting word2vec\n",
            "\u001b[?25l  Downloading https://files.pythonhosted.org/packages/11/9e/dc6d96578191b6167cb1ea4a3fe3edeed0dce54d3db21ada013b2b407d65/word2vec-0.11.1.tar.gz (42kB)\n",
            "\r\u001b[K     |███████▊                        | 10kB 12.6MB/s eta 0:00:01\r\u001b[K     |███████████████▌                | 20kB 12.1MB/s eta 0:00:01\r\u001b[K     |███████████████████████▎        | 30kB 8.1MB/s eta 0:00:01\r\u001b[K     |███████████████████████████████ | 40kB 7.4MB/s eta 0:00:01\r\u001b[K     |████████████████████████████████| 51kB 2.7MB/s \n",
            "\u001b[?25h  Installing build dependencies ... \u001b[?25l\u001b[?25hdone\n",
            "  Getting requirements to build wheel ... \u001b[?25l\u001b[?25hdone\n",
            "    Preparing wheel metadata ... \u001b[?25l\u001b[?25hdone\n",
            "Requirement already satisfied: joblib in /usr/local/lib/python3.6/dist-packages (from word2vec) (0.17.0)\n",
            "Requirement already satisfied: numpy>=1.9.2 in /usr/local/lib/python3.6/dist-packages (from word2vec) (1.18.5)\n",
            "Building wheels for collected packages: word2vec\n",
            "  Building wheel for word2vec (PEP 517) ... \u001b[?25l\u001b[?25hdone\n",
            "  Created wheel for word2vec: filename=word2vec-0.11.1-cp36-none-any.whl size=156401 sha256=907d1479f712da5327cc10b398338e1d4034d47985f8f59929d25b9814fb9386\n",
            "  Stored in directory: /root/.cache/pip/wheels/f3/7c/ac/fcb6d867f806021c3730fd848970db988b1d0030b5d20c0e02\n",
            "Successfully built word2vec\n",
            "Installing collected packages: word2vec\n",
            "Successfully installed word2vec-0.11.1\n",
            "cp: cannot stat 'vocabulaire': No such file or directory\n"
          ],
          "name": "stdout"
        }
      ]
    },
    {
      "cell_type": "code",
      "metadata": {
        "id": "gxDMb4aHacEW",
        "colab": {
          "base_uri": "https://localhost:8080/",
          "height": 340
        },
        "outputId": "0f9f2f7f-af84-49bc-b868-5a3730a5348c"
      },
      "source": [
        "def vecteur(liste) :\n",
        "  V=[]\n",
        "  vec_tweet=[]\n",
        "  for tweet in liste :\n",
        "    phrase=[]\n",
        "    vec_tweet=[]\n",
        "    phrase+=tweet.split()\n",
        "    for mot in phrase :\n",
        "      vec_tweet+=vocabulaire.word_vec(mot)\n",
        "    V.append(np.mean(vec_tweet,0))\n",
        "  return(V) \n",
        "\n",
        "vecteur([\"Je aime les pommes\", \"Je vais bien\"])"
      ],
      "execution_count": null,
      "outputs": [
        {
          "output_type": "error",
          "ename": "KeyError",
          "evalue": "ignored",
          "traceback": [
            "\u001b[0;31m---------------------------------------------------------------------------\u001b[0m",
            "\u001b[0;31mKeyError\u001b[0m                                  Traceback (most recent call last)",
            "\u001b[0;32m<ipython-input-17-d8d800328f82>\u001b[0m in \u001b[0;36m<module>\u001b[0;34m()\u001b[0m\n\u001b[1;32m     11\u001b[0m   \u001b[0;32mreturn\u001b[0m\u001b[0;34m(\u001b[0m\u001b[0mV\u001b[0m\u001b[0;34m)\u001b[0m\u001b[0;34m\u001b[0m\u001b[0;34m\u001b[0m\u001b[0m\n\u001b[1;32m     12\u001b[0m \u001b[0;34m\u001b[0m\u001b[0m\n\u001b[0;32m---> 13\u001b[0;31m \u001b[0mvecteur\u001b[0m\u001b[0;34m(\u001b[0m\u001b[0;34m[\u001b[0m\u001b[0;34m\"Je aime les pommes\"\u001b[0m\u001b[0;34m,\u001b[0m \u001b[0;34m\"Je vais bien\"\u001b[0m\u001b[0;34m]\u001b[0m\u001b[0;34m)\u001b[0m\u001b[0;34m\u001b[0m\u001b[0;34m\u001b[0m\u001b[0m\n\u001b[0m",
            "\u001b[0;32m<ipython-input-17-d8d800328f82>\u001b[0m in \u001b[0;36mvecteur\u001b[0;34m(liste)\u001b[0m\n\u001b[1;32m      7\u001b[0m     \u001b[0mphrase\u001b[0m\u001b[0;34m+=\u001b[0m\u001b[0mtweet\u001b[0m\u001b[0;34m.\u001b[0m\u001b[0msplit\u001b[0m\u001b[0;34m(\u001b[0m\u001b[0;34m)\u001b[0m\u001b[0;34m\u001b[0m\u001b[0;34m\u001b[0m\u001b[0m\n\u001b[1;32m      8\u001b[0m     \u001b[0;32mfor\u001b[0m \u001b[0mmot\u001b[0m \u001b[0;32min\u001b[0m \u001b[0mphrase\u001b[0m \u001b[0;34m:\u001b[0m\u001b[0;34m\u001b[0m\u001b[0;34m\u001b[0m\u001b[0m\n\u001b[0;32m----> 9\u001b[0;31m       \u001b[0mvec_tweet\u001b[0m\u001b[0;34m+=\u001b[0m\u001b[0mvocabulaire\u001b[0m\u001b[0;34m.\u001b[0m\u001b[0mword_vec\u001b[0m\u001b[0;34m(\u001b[0m\u001b[0mmot\u001b[0m\u001b[0;34m)\u001b[0m\u001b[0;34m\u001b[0m\u001b[0;34m\u001b[0m\u001b[0m\n\u001b[0m\u001b[1;32m     10\u001b[0m     \u001b[0mV\u001b[0m\u001b[0;34m.\u001b[0m\u001b[0mappend\u001b[0m\u001b[0;34m(\u001b[0m\u001b[0mnp\u001b[0m\u001b[0;34m.\u001b[0m\u001b[0mmean\u001b[0m\u001b[0;34m(\u001b[0m\u001b[0mvec_tweet\u001b[0m\u001b[0;34m,\u001b[0m\u001b[0;36m0\u001b[0m\u001b[0;34m)\u001b[0m\u001b[0;34m)\u001b[0m\u001b[0;34m\u001b[0m\u001b[0;34m\u001b[0m\u001b[0m\n\u001b[1;32m     11\u001b[0m   \u001b[0;32mreturn\u001b[0m\u001b[0;34m(\u001b[0m\u001b[0mV\u001b[0m\u001b[0;34m)\u001b[0m\u001b[0;34m\u001b[0m\u001b[0;34m\u001b[0m\u001b[0m\n",
            "\u001b[0;32m/usr/local/lib/python3.6/dist-packages/gensim/models/keyedvectors.py\u001b[0m in \u001b[0;36mword_vec\u001b[0;34m(self, word, use_norm)\u001b[0m\n\u001b[1;32m    450\u001b[0m             \u001b[0;32mreturn\u001b[0m \u001b[0mresult\u001b[0m\u001b[0;34m\u001b[0m\u001b[0;34m\u001b[0m\u001b[0m\n\u001b[1;32m    451\u001b[0m         \u001b[0;32melse\u001b[0m\u001b[0;34m:\u001b[0m\u001b[0;34m\u001b[0m\u001b[0;34m\u001b[0m\u001b[0m\n\u001b[0;32m--> 452\u001b[0;31m             \u001b[0;32mraise\u001b[0m \u001b[0mKeyError\u001b[0m\u001b[0;34m(\u001b[0m\u001b[0;34m\"word '%s' not in vocabulary\"\u001b[0m \u001b[0;34m%\u001b[0m \u001b[0mword\u001b[0m\u001b[0;34m)\u001b[0m\u001b[0;34m\u001b[0m\u001b[0;34m\u001b[0m\u001b[0m\n\u001b[0m\u001b[1;32m    453\u001b[0m \u001b[0;34m\u001b[0m\u001b[0m\n\u001b[1;32m    454\u001b[0m     \u001b[0;32mdef\u001b[0m \u001b[0mget_vector\u001b[0m\u001b[0;34m(\u001b[0m\u001b[0mself\u001b[0m\u001b[0;34m,\u001b[0m \u001b[0mword\u001b[0m\u001b[0;34m)\u001b[0m\u001b[0;34m:\u001b[0m\u001b[0;34m\u001b[0m\u001b[0;34m\u001b[0m\u001b[0m\n",
            "\u001b[0;31mKeyError\u001b[0m: \"word 'Je' not in vocabulary\""
          ]
        }
      ]
    },
    {
      "cell_type": "markdown",
      "metadata": {
        "id": "gwF1IEnwve9z"
      },
      "source": [
        "# **Partie 4 :** Réponse automatique à un tweet négatif"
      ]
    },
    {
      "cell_type": "markdown",
      "metadata": {
        "id": "acU5lYyl2w_I"
      },
      "source": [
        "il me semble qu'avec tweepy on peut créer un bot de réponse. \n",
        "En soi on peut juste faire un if then repondre \"quel est votre soucis, nous sommes désolés de votre insatisfaction\".\n",
        "ou faire qq chose de plus élaborer mais ej sais pas quoi"
      ]
    }
  ]
}